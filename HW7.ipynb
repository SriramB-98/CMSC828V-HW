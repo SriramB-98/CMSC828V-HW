{
 "cells": [
  {
   "cell_type": "code",
   "execution_count": 2,
   "id": "d8091736",
   "metadata": {},
   "outputs": [],
   "source": [
    "import numpy as np\n",
    "import matplotlib.pyplot as plt"
   ]
  },
  {
   "cell_type": "markdown",
   "id": "2b84559b",
   "metadata": {},
   "source": [
    "# Question 1"
   ]
  },
  {
   "cell_type": "code",
   "execution_count": 3,
   "id": "9a3fa9fb",
   "metadata": {},
   "outputs": [],
   "source": [
    "def f(theta, p, s):\n",
    "    z = np.cos(theta) + np.sin(theta)*1j\n",
    "    num = 3 - 2*p -np.sqrt((3 - 2*p)**2 - 12*z**2*p*(1 - p))\n",
    "    h = num*p/(6*(1-p)) + (num**3)/(6**3 *(z*(1-p))**2 )\n",
    "    return h/(z**s)\n",
    "\n",
    "n = 1000\n",
    "xs = [2*np.pi*i/n for i in range(n)]\n",
    "p_vals = [0.6, 0.9]\n",
    "all_integrals = []\n",
    "for p in p_vals:\n",
    "    integrals = []\n",
    "    for s in range(100):\n",
    "        ys = [f(x, p, s)/(2*np.pi) for x in xs]\n",
    "        integrals.append(np.real(np.trapz(ys, xs)))\n",
    "    all_integrals.append(integrals)"
   ]
  },
  {
   "cell_type": "markdown",
   "id": "3003cfa3",
   "metadata": {},
   "source": [
    "## Without giant component (p = 0.9)"
   ]
  },
  {
   "cell_type": "code",
   "execution_count": 71,
   "id": "0ea48921",
   "metadata": {},
   "outputs": [
    {
     "data": {
      "image/png": "[encoded data removed]",
      "text/plain": [
       "<Figure size 432x288 with 1 Axes>"
      ]
     },
     "metadata": {
      "needs_background": "light"
     },
     "output_type": "display_data"
    }
   ],
   "source": [
    "plt.hist(np.arange(100), bins=np.arange(100), weights=all_integrals[1], density=False, rwidth=1, label='Theoretical')\n",
    "plt.xlabel('Component size')\n",
    "plt.ylabel('Fraction (Probability)')\n",
    "plt.show()"
   ]
  },
  {
   "cell_type": "markdown",
   "id": "e367c719",
   "metadata": {},
   "source": [
    "## With giant component (p = 0.6)\n"
   ]
  },
  {
   "cell_type": "code",
   "execution_count": 72,
   "id": "7417c3ab",
   "metadata": {},
   "outputs": [
    {
     "data": {
      "image/png": "[encoded data removed]",
      "text/plain": [
       "<Figure size 432x288 with 1 Axes>"
      ]
     },
     "metadata": {
      "needs_background": "light"
     },
     "output_type": "display_data"
    }
   ],
   "source": [
    "plt.hist(np.arange(100), bins=np.arange(100), weights=all_integrals[0], density=False, rwidth=1, label='Theoretical')\n",
    "plt.xlabel('Component size')\n",
    "plt.ylabel('Fraction (Probability)')\n",
    "plt.show()"
   ]
  },
  {
   "cell_type": "code",
   "execution_count": 66,
   "id": "eb2f6283",
   "metadata": {},
   "outputs": [
    {
     "name": "stdout",
     "output_type": "stream",
     "text": [
      "0.6840438068549621\n"
     ]
    }
   ],
   "source": [
    "theoretical_fraction_in_giant_component = 1 - sum(all_integrals[0]) \n",
    "print(theoretical_fraction_in_giant_component)"
   ]
  },
  {
   "cell_type": "code",
   "execution_count": null,
   "id": "2b16ee2f",
   "metadata": {},
   "outputs": [],
   "source": [
    "sum(all_integrals[1])"
   ]
  },
  {
   "cell_type": "markdown",
   "id": "5844f4c0",
   "metadata": {},
   "source": [
    "Around 68.4% nodes in the giant component theoretically (estimated from first 100 components)"
   ]
  },
  {
   "cell_type": "code",
   "execution_count": 112,
   "id": "cb5f326a",
   "metadata": {},
   "outputs": [
    {
     "name": "stdout",
     "output_type": "stream",
     "text": [
      "(0.34993900000666384-1.8478552021861105e-12j)\n"
     ]
    }
   ],
   "source": [
    "# def f_cum(theta, p):\n",
    "#     z = (np.cos(theta) + np.sin(theta)*1j)\n",
    "#     num = 3 - 2*p -np.sqrt((3 - 2*p)**2 - 12*z**2*p*(1 - p))\n",
    "#     h = num*p/(6*(1-p)) + (num**3)/(6**3 *(z*(1-p))**2 )\n",
    "#     return h/(z-1)\n",
    "\n",
    "# def f(theta, p, s):\n",
    "#     z = np.cos(theta) + np.sin(theta)*1j\n",
    "#     num = 3 - 2*p -np.sqrt((3 - 2*p)**2 - 12*z**2*p*(1 - p))\n",
    "#     h = num*p/(6*(1-p)) + (num**3)/(6**3 *(z*(1-p))**2 )\n",
    "#     return h/(z**s)\n",
    "# # def fmod(theta, p, s):\n",
    "# #     z = 2*(np.cos(theta) + np.sin(theta)*1j)\n",
    "# #     num = 3 - 2*p -np.sqrt((3 - 2*p)**2 - 12*z**2*p*(1 - p))\n",
    "# #     h = num*p/(6*(1-p)) + (num**3)/(6**3 *(z*(1-p))**2 )\n",
    "# #     return h/(z**s)\n",
    "# n = 100000\n",
    "# xs = [2*np.pi*i/n for i in range(1,n)]\n",
    "# ys = [f_cum(x, 0.6)/(2*np.pi) for x in xs]\n",
    "# print(2*np.trapz(ys, xs))"
   ]
  },
  {
   "cell_type": "markdown",
   "id": "f47d5a81",
   "metadata": {},
   "source": [
    "# Question 2"
   ]
  },
  {
   "cell_type": "code",
   "execution_count": 44,
   "id": "5fd30f97",
   "metadata": {},
   "outputs": [],
   "source": [
    "def generate_rand_graph(n, p):\n",
    "    degrees = np.random.uniform(size=(n,))\n",
    "    degrees[degrees > p] = 3\n",
    "    degrees[degrees <= p] = 1\n",
    "    edges = [list() for _ in range(n)]\n",
    "    nodes = np.arange(n)\n",
    "    num_edges = sum(degrees)/2\n",
    "    while num_edges > 0:\n",
    "        edge = np.random.choice(nodes, replace=False, p=degrees/(2*num_edges), size=2)\n",
    "        if edge[0] in edges[edge[1]] or edge[1] in edges[edge[0]]:\n",
    "            continue\n",
    "        edges[edge[0]].append(edge[1])\n",
    "        edges[edge[1]].append(edge[0])\n",
    "        degrees[edge[0]] -= 1\n",
    "        degrees[edge[1]] -= 1\n",
    "        assert degrees[edge[0]] >= 0\n",
    "        num_edges -= 1\n",
    "    return edges\n",
    "\n",
    "def dfs(graph, i):\n",
    "    nodes = [i]\n",
    "    done = set([i])\n",
    "    while nodes:\n",
    "        next_nodes = [n for n in graph[nodes.pop()] if n not in done]\n",
    "        nodes.extend(next_nodes)\n",
    "        done = done.union(next_nodes)\n",
    "    return list(done)\n",
    "\n",
    "def get_connected_comps(graph):\n",
    "    all_nodes = set(range(len(graph)))\n",
    "    comp_sizes = []\n",
    "    while all_nodes:\n",
    "        comp = dfs(graph, all_nodes.pop())\n",
    "        all_nodes = all_nodes.difference(comp)\n",
    "        comp_sizes.append(len(comp))\n",
    "    return comp_sizes"
   ]
  },
  {
   "cell_type": "code",
   "execution_count": 54,
   "id": "e0e5a572",
   "metadata": {},
   "outputs": [],
   "source": [
    "N = 10000\n",
    "\n",
    "large_graph = generate_rand_graph(N, 0.6)\n",
    "small_graph = generate_rand_graph(N, 0.9)\n",
    "\n",
    "large_sizes = get_connected_comps(large_graph)\n",
    "small_sizes = get_connected_comps(small_graph)"
   ]
  },
  {
   "cell_type": "markdown",
   "id": "957c2408",
   "metadata": {},
   "source": [
    "## Without giant component (p = 0.9)"
   ]
  },
  {
   "cell_type": "code",
   "execution_count": 73,
   "id": "5c7d65aa",
   "metadata": {
    "scrolled": true
   },
   "outputs": [
    {
     "data": {
      "image/png": "[encoded data removed]",
      "text/plain": [
       "<Figure size 432x288 with 1 Axes>"
      ]
     },
     "metadata": {
      "needs_background": "light"
     },
     "output_type": "display_data"
    }
   ],
   "source": [
    "plt.hist([small_sizes, np.arange(100)], bins=np.arange(100), weights=[np.array(small_sizes)/N, all_integrals[1]], density=False, rwidth=1, label=['Experimental', 'Theoretical'])\n",
    "plt.xlabel('Component size')\n",
    "plt.ylabel('Fraction (Probability)')\n",
    "plt.legend()\n",
    "plt.show()"
   ]
  },
  {
   "cell_type": "markdown",
   "id": "86ce90ae",
   "metadata": {},
   "source": [
    "## With giant component (p = 0.6)"
   ]
  },
  {
   "cell_type": "code",
   "execution_count": 74,
   "id": "caf67b7d",
   "metadata": {},
   "outputs": [
    {
     "data": {
      "image/png": "[encoded data removed]",
      "text/plain": [
       "<Figure size 432x288 with 1 Axes>"
      ]
     },
     "metadata": {
      "needs_background": "light"
     },
     "output_type": "display_data"
    }
   ],
   "source": [
    "plt.hist([large_sizes, np.arange(100)], bins=np.arange(100), weights=[np.array(large_sizes)/N, all_integrals[0]], density=False, rwidth=1, label=['Experimental', 'Theoretical'])\n",
    "plt.xlabel('Component size')\n",
    "plt.ylabel('Fraction (Probability)')\n",
    "plt.legend()\n",
    "plt.show()"
   ]
  },
  {
   "cell_type": "code",
   "execution_count": 68,
   "id": "999077d6",
   "metadata": {},
   "outputs": [
    {
     "name": "stdout",
     "output_type": "stream",
     "text": [
      "0.6718\n"
     ]
    }
   ],
   "source": [
    "experimental_fraction_in_giant_component = large_sizes[0]/sum(large_sizes)\n",
    "print(experimental_fraction_in_giant_component)"
   ]
  },
  {
   "cell_type": "markdown",
   "id": "3de5f29b",
   "metadata": {},
   "source": [
    "Around 67.2% nodes in the giant component experimentally"
   ]
  }
 ],
 "metadata": {
  "kernelspec": {
   "display_name": "Python 3",
   "language": "python",
   "name": "python3"
  },
  "language_info": {
   "codemirror_mode": {
    "name": "ipython",
    "version": 3
   },
   "file_extension": ".py",
   "mimetype": "text/x-python",
   "name": "python",
   "nbconvert_exporter": "python",
   "pygments_lexer": "ipython3",
   "version": "3.8.8"
  }
 },
 "nbformat": 4,
 "nbformat_minor": 5
}
